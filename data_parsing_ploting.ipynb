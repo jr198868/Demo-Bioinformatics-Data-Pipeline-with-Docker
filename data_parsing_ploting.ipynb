{
 "cells": [
  {
   "cell_type": "code",
   "execution_count": 1,
   "id": "38c48502-aa7a-4ee0-8699-423735263901",
   "metadata": {},
   "outputs": [],
   "source": [
    "import gzip\n",
    "from Bio import SeqIO\n"
   ]
  },
  {
   "cell_type": "code",
   "execution_count": 102,
   "id": "694f925a-4674-4760-a906-8d34dc7422c9",
   "metadata": {},
   "outputs": [
    {
     "name": "stdout",
     "output_type": "stream",
     "text": [
      "300\n",
      "12\n"
     ]
    }
   ],
   "source": [
    "flagstat = '/Users/rjing/Desktop/flagstat.txt'\n",
    "\n",
    "def get_fastq_index_length(fastq_file):\n",
    "    with open(fastq_file, \"r\") as f:\n",
    "        first_line = f.readline().strip()\n",
    "        index_length = len(first_line.split(\":\")[-1])\n",
    "    return index_length\n",
    "\n",
    "\n",
    "def get_fastq_read_length(fastq_file):\n",
    "    with open(fastq_file, \"r\") as f:\n",
    "        for line in f:\n",
    "            if line.startswith(\"@\"):\n",
    "                read_length = len(f.readline().strip())\n",
    "                return read_length\n",
    "\n",
    "# Usage\n",
    "fastq_file = \"/Users/rjing/Desktop/test/input_data/read2.fastq\"\n",
    "read_length = get_fastq_read_length(fastq_file)\n",
    "print(read_length)\n",
    "\n",
    "index_length = get_fastq_index_length(fastq_file)\n",
    "print(index_length)\n",
    "\n",
    "\n",
    "\n"
   ]
  },
  {
   "cell_type": "code",
   "execution_count": 2,
   "id": "8a35aaf1-2f0e-40eb-beee-ed4d29991113",
   "metadata": {},
   "outputs": [
    {
     "name": "stdout",
     "output_type": "stream",
     "text": [
      "Total Reads: 100000\n",
      "Unique Molecules: 99942\n"
     ]
    }
   ],
   "source": [
    "\n",
    "def estimate_unique_molecules(fastq_file_1, fastq_file_2):\n",
    "    sequences = set()\n",
    "    total_reads = 0\n",
    "\n",
    "    # Iterate over the paired FASTQ files and collect unique sequences\n",
    "    with gzip.open(fastq_file_1, \"rt\") as handle_1, gzip.open(fastq_file_2, \"rt\") as handle_2:\n",
    "        for record_1, record_2 in zip(SeqIO.parse(handle_1, \"fastq\"), SeqIO.parse(handle_2, \"fastq\")):\n",
    "            sequences.add((str(record_1.seq), str(record_2.seq)))\n",
    "            total_reads += 1\n",
    "\n",
    "    unique_molecules = len(sequences)\n",
    "\n",
    "    return unique_molecules, total_reads\n",
    "\n",
    "# Provide the paths to your paired gzipped FASTQ files\n",
    "fastq_file_path_1 = \"/Users/rjing/Desktop/test/input/read1.fastq.gz\"\n",
    "fastq_file_path_2 = \"/Users/rjing/Desktop/test/input/read2.fastq.gz\"\n",
    "\n",
    "# Call the function to estimate the number of unique molecules\n",
    "unique_molecules, total_reads = estimate_unique_molecules(fastq_file_path_1, fastq_file_path_2)\n",
    "\n",
    "print(\"Total Reads:\", total_reads)\n",
    "print(\"Unique Molecules:\", unique_molecules)\n"
   ]
  },
  {
   "cell_type": "code",
   "execution_count": 3,
   "id": "f57f8882-55e5-4f15-b9ac-33d415c60c3a",
   "metadata": {},
   "outputs": [
    {
     "name": "stdout",
     "output_type": "stream",
     "text": [
      "Mean Insert Size: 0.0\n",
      "Standard Deviation of Insert Size: 0.0\n"
     ]
    }
   ],
   "source": [
    "import gzip\n",
    "import numpy as np\n",
    "from Bio import SeqIO\n",
    "\n",
    "def calculate_insert_sizes(fastq_file1, fastq_file2):\n",
    "    insert_sizes = []\n",
    "\n",
    "    with gzip.open(fastq_file1, \"rt\") as handle1, gzip.open(fastq_file2, \"rt\") as handle2:\n",
    "        for record1, record2 in zip(SeqIO.parse(handle1, \"fastq\"), SeqIO.parse(handle2, \"fastq\")):\n",
    "            insert_size = len(record2.seq) - len(record1.seq)\n",
    "            insert_sizes.append(insert_size)\n",
    "\n",
    "    return insert_sizes\n",
    "\n",
    "# Provide the paths to your paired gzipped FASTQ files after adapter removal\n",
    "fastq_file_path_1 = \"/Users/rjing/Desktop/test/input/read1.fastq.gz\"\n",
    "fastq_file_path_2 = \"/Users/rjing/Desktop/test/input/read2.fastq.gz\"\n",
    "\n",
    "# Call the function to calculate insert sizes\n",
    "insert_sizes = calculate_insert_sizes(fastq_file_path_1, fastq_file_path_2)\n",
    "\n",
    "# Calculate mean and standard deviation\n",
    "mean_insert_size = np.mean(insert_sizes)\n",
    "std_insert_size = np.std(insert_sizes)\n",
    "\n",
    "print(\"Mean Insert Size:\", mean_insert_size)\n",
    "print(\"Standard Deviation of Insert Size:\", std_insert_size)\n"
   ]
  },
  {
   "cell_type": "code",
   "execution_count": 33,
   "id": "b310be46-e939-4a0d-bcec-06a0d2ee5c7e",
   "metadata": {},
   "outputs": [
    {
     "data": {
      "image/png": "[encoded data removed]",
      "text/plain": [
       "<Figure size 1000x600 with 1 Axes>"
      ]
     },
     "metadata": {},
     "output_type": "display_data"
    }
   ],
   "source": [
    "import pysam\n",
    "import matplotlib.pyplot as plt\n",
    "\n",
    "# Increase chunk size\n",
    "plt.rcParams['agg.path.chunksize'] = 1000\n",
    "\n",
    "\n",
    "# Path to your SAM file\n",
    "sam_file = \"/Users/rjing/Desktop/trim_read1_read2_alig.sam\"\n",
    "\n",
    "# Path to your FASTQ file\n",
    "fastq_file = \"/Users/rjing/Desktop/trim_read1_paired.fastq\"\n",
    "\n",
    "# Read Phred scores from SAM file\n",
    "sam_positions = []\n",
    "sam_scores = []\n",
    "with open(sam_file, \"r\") as sam:\n",
    "    for line in sam:\n",
    "        if line.startswith(\"@\"):\n",
    "            continue\n",
    "        fields = line.strip().split(\"\\t\")\n",
    "        positions = range(int(fields[3]), int(fields[3]) + len(fields[9]))\n",
    "        scores = [ord(ch) - 33 for ch in fields[10]]\n",
    "        sam_positions.extend(positions)\n",
    "        sam_scores.extend(scores)\n",
    "\n",
    "# Read Phred scores from FASTQ file\n",
    "fastq_positions = []\n",
    "fastq_scores = []\n",
    "with open(fastq_file, \"r\") as fastq:\n",
    "    for i, line in enumerate(fastq):\n",
    "        if i % 4 == 3:\n",
    "            scores = [ord(ch) - 33 for ch in line.strip()]\n",
    "            fastq_positions.extend(range(len(scores)))\n",
    "            fastq_scores.extend(scores)\n",
    "\n",
    "# Create a data frame with the position, Phred scores, and quality scores\n",
    "data = {\n",
    "    \"SAM_Position\": sam_positions,\n",
    "    \"SAM_Score\": sam_scores,\n",
    "    \"FASTQ_Position\": fastq_positions,\n",
    "    \"FASTQ_Score\": fastq_scores,\n",
    "}\n",
    "\n",
    "# Plot instrument-reported Phred scores and alignment inferred quality scores\n",
    "plt.figure(figsize=(10, 6))\n",
    "plt.plot(data[\"SAM_Position\"], data[\"SAM_Score\"], label=\"Instrument Reported\")\n",
    "plt.plot(data[\"FASTQ_Position\"], data[\"FASTQ_Score\"], label=\"Alignment Inferred\")\n",
    "plt.xlabel(\"Position\")\n",
    "plt.ylabel(\"Quality Score\")\n",
    "plt.title(\"Instrument Reported vs Alignment Inferred Quality Scores\")\n",
    "plt.legend()\n",
    "plt.show()\n"
   ]
  },
  {
   "cell_type": "code",
   "execution_count": 47,
   "id": "84956d35-0be5-48bb-84b7-fd9480a9d57b",
   "metadata": {},
   "outputs": [
    {
     "name": "stdout",
     "output_type": "stream",
     "text": [
      "Read 1 Length: None\n",
      "Index 1 Length: None\n",
      "Index 2 Length: None\n",
      "Read 2 Length: None\n"
     ]
    }
   ],
   "source": [
    "import pysam\n",
    "\n",
    "# Open the BAM file\n",
    "bam_file = pysam.AlignmentFile('/Users/rjing/Desktop/trim_read1_read2_alig.sam', 'rb')\n",
    "\n",
    "# Get the header information\n",
    "header = bam_file.header\n",
    "\n",
    "# Extract the sequencing configuration\n",
    "read1_len = None\n",
    "index1_len = None\n",
    "index2_len = None\n",
    "read2_len = None\n",
    "\n",
    "for rg_dict in header.get('RG', []):\n",
    "    if 'ID' in rg_dict and rg_dict['ID'] == '1':\n",
    "        if 'S' in rg_dict and rg_dict['S'] == 'read1':\n",
    "            read1_len = rg_dict.get('CN', None)\n",
    "    elif 'ID' in rg_dict and rg_dict['ID'] == '2':\n",
    "        if 'S' in rg_dict and rg_dict['S'] == 'index1':\n",
    "            index1_len = rg_dict.get('CN', None)\n",
    "        elif 'S' in rg_dict and rg_dict['S'] == 'index2':\n",
    "            index2_len = rg_dict.get('CN', None)\n",
    "        elif 'S' in rg_dict and rg_dict['S'] == 'read2':\n",
    "            read2_len = rg_dict.get('CN', None)\n",
    "\n",
    "# Print the sequencing configuration\n",
    "print('Read 1 Length:', read1_len)\n",
    "print('Index 1 Length:', index1_len)\n",
    "print('Index 2 Length:', index2_len)\n",
    "print('Read 2 Length:', read2_len)\n",
    "\n",
    "# Close the BAM file\n",
    "bam_file.close()\n"
   ]
  },
  {
   "cell_type": "code",
   "execution_count": null,
   "id": "0d4509fe-b863-4d88-be4d-33e6c9c730b5",
   "metadata": {},
   "outputs": [],
   "source": []
  }
 ],
 "metadata": {
  "kernelspec": {
   "display_name": "Python 3 (ipykernel)",
   "language": "python",
   "name": "python3"
  },
  "language_info": {
   "codemirror_mode": {
    "name": "ipython",
    "version": 3
   },
   "file_extension": ".py",
   "mimetype": "text/x-python",
   "name": "python",
   "nbconvert_exporter": "python",
   "pygments_lexer": "ipython3",
   "version": "3.9.7"
  }
 },
 "nbformat": 4,
 "nbformat_minor": 5
}
